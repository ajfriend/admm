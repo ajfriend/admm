{
 "cells": [
  {
   "cell_type": "code",
   "execution_count": 1,
   "metadata": {
    "collapsed": true
   },
   "outputs": [],
   "source": [
    "%matplotlib inline\n",
    "import numpy as np\n",
    "\n",
    "import seaborn as sns\n",
    "\n",
    "from admm.market_eq import solve_linear_eq, clean_x, alloc_violation, displeasure"
   ]
  },
  {
   "cell_type": "code",
   "execution_count": 2,
   "metadata": {
    "collapsed": true
   },
   "outputs": [],
   "source": [
    "m = 3 #agents\n",
    "n = 3 #goods\n",
    "\n",
    "A = np.random.rand(m,n)\n",
    "B = np.random.rand(m,n)"
   ]
  },
  {
   "cell_type": "code",
   "execution_count": 3,
   "metadata": {
    "collapsed": false
   },
   "outputs": [
    {
     "name": "stdout",
     "output_type": "stream",
     "text": [
      "\n",
      "ECOS 2.0.4 - (C) embotech GmbH, Zurich Switzerland, 2012-15. Web: www.embotech.com/ECOS\n",
      "\n",
      "It     pcost       dcost      gap   pres   dres    k/t    mu     step   sigma     IR    |   BT\n",
      " 0  +0.000e+00  -2.395e+01  +6e+01  1e+00  7e-01  1e+00  1e+00    ---    ---    0  0  - |  -  - \n",
      " 1  +0.000e+00  -7.125e+00  +2e+01  2e-01  2e-01  3e-01  3e-01  0.7477  4e-02   0  0  0 |  0  1\n",
      " 2  +0.000e+00  -2.359e+00  +5e+00  5e-02  6e-02  1e-01  9e-02  0.7361  8e-02   0  0  0 |  2  1\n",
      " 3  +0.000e+00  -8.865e-01  +2e+00  2e-02  2e-02  4e-02  3e-02  0.7345  1e-01   0  0  0 |  2  1\n",
      " 4  +0.000e+00  -2.141e-01  +4e-01  5e-03  6e-03  1e-02  6e-03  0.7771  5e-03   0  0  0 |  0  1\n",
      " 5  +0.000e+00  -9.250e-02  +2e-01  2e-03  2e-03  5e-03  3e-03  0.6266  6e-02   0  0  0 |  2  2\n",
      " 6  +0.000e+00  -2.092e-02  +3e-02  5e-04  6e-04  1e-03  6e-04  0.7833  1e-02   0  0  0 |  1  1\n",
      " 7  +0.000e+00  -9.683e-03  +2e-02  2e-04  3e-04  5e-04  3e-04  0.6266  1e-01   1  0  0 |  3  2\n",
      " 8  +0.000e+00  -2.159e-03  +3e-03  5e-05  6e-05  1e-04  6e-05  0.7833  1e-02   1  0  0 |  1  1\n",
      " 9  +0.000e+00  -8.888e-04  +1e-03  2e-05  2e-05  5e-05  2e-05  0.6266  5e-02   1  0  0 |  2  2\n",
      "10  +0.000e+00  -1.996e-04  +3e-04  5e-06  5e-06  1e-05  5e-06  0.7833  9e-03   1  0  0 |  1  1\n",
      "11  +0.000e+00  -8.140e-05  +1e-04  2e-06  2e-06  4e-06  2e-06  0.6266  5e-02   1  0  0 |  2  2\n",
      "12  +0.000e+00  -1.820e-05  +3e-05  5e-07  5e-07  1e-06  5e-07  0.7833  9e-03   1  0  0 |  1  1\n",
      "13  +0.000e+00  -7.420e-06  +1e-05  2e-07  2e-07  4e-07  2e-07  0.6266  5e-02   2  0  1 |  2  2\n",
      "14  +0.000e+00  -1.658e-06  +2e-06  4e-08  4e-08  9e-08  4e-08  0.7833  9e-03   2  0  0 |  1  1\n",
      "15  +0.000e+00  -6.763e-07  +1e-06  2e-08  2e-08  4e-08  2e-08  0.6266  5e-02   2  0  1 |  2  2\n",
      "16  +0.000e+00  -1.512e-07  +2e-07  4e-09  4e-09  8e-09  4e-09  0.7833  9e-03   2  0  0 |  1  1\n",
      "17  +0.000e+00  -6.131e-08  +9e-08  2e-09  2e-09  3e-09  2e-09  0.6266  5e-02   2  0  1 |  2  2\n",
      "18  +0.000e+00  -1.372e-08  +2e-08  3e-10  4e-10  7e-10  3e-10  0.7833  9e-03   3  0  1 |  1  1\n",
      "19  +0.000e+00  -5.550e-09  +8e-09  1e-10  1e-10  3e-10  1e-10  0.6266  5e-02   3  0  0 |  2  2\n",
      "\n",
      "OPTIMAL (within feastol=1.5e-10, reltol=nan, abstol=8.2e-09).\n",
      "Runtime: 0.002521 seconds.\n",
      "\n"
     ]
    }
   ],
   "source": [
    "x, phi = solve_linear_eq(A,B)"
   ]
  },
  {
   "cell_type": "code",
   "execution_count": 4,
   "metadata": {
    "collapsed": false,
    "scrolled": true
   },
   "outputs": [
    {
     "data": {
      "text/plain": [
       "(0, 0.0)"
      ]
     },
     "execution_count": 4,
     "metadata": {},
     "output_type": "execute_result"
    }
   ],
   "source": [
    "x = clean_x(x,B)\n",
    "alloc_violation(x,B)"
   ]
  },
  {
   "cell_type": "code",
   "execution_count": 5,
   "metadata": {
    "collapsed": false
   },
   "outputs": [
    {
     "data": {
      "text/plain": [
       "2.213720150169482e-09"
      ]
     },
     "execution_count": 5,
     "metadata": {},
     "output_type": "execute_result"
    }
   ],
   "source": [
    "sum(displeasure(A,B,x,phi))"
   ]
  },
  {
   "cell_type": "code",
   "execution_count": 6,
   "metadata": {
    "collapsed": false
   },
   "outputs": [
    {
     "data": {
      "text/plain": [
       "<matplotlib.axes._subplots.AxesSubplot at 0x10e5fc6a0>"
      ]
     },
     "execution_count": 6,
     "metadata": {},
     "output_type": "execute_result"
    },
    {
     "data": {
      "image/png": "[encoded data removed]",
      "text/plain": [
       "<matplotlib.figure.Figure at 0x10e5edf98>"
      ]
     },
     "metadata": {},
     "output_type": "display_data"
    }
   ],
   "source": [
    "sns.heatmap(x)"
   ]
  },
  {
   "cell_type": "markdown",
   "metadata": {},
   "source": [
    "# plan\n",
    "- make a paried down admm algorithm\n",
    "- sharing and consensus, but only vectors for each\n",
    "- cut a lot of the boilerplate code\n",
    "- get an iteration working\n",
    "- see the convergence difference with consensus only (extra prox for sharing)\n",
    "\n",
    "# next\n",
    "- make rho adjustment"
   ]
  },
  {
   "cell_type": "markdown",
   "metadata": {},
   "source": [
    "- x is a dict of keys\n",
    "- can be empty (interpreted as zero)\n",
    "    - thus, each proxer must know the sizes of its variables\n",
    "- x = prox(x,rho)\n",
    "- maybe the proxer returns optional info?\n",
    "- some proxers are fusion centers to simulate sharing\n",
    "- for sharing, use keys like: ('agent1', 'apples'), ('agent2', 'apples')\n",
    "- this simplifies everything, one prox is the sharing prox that takes care of this work"
   ]
  },
  {
   "cell_type": "markdown",
   "metadata": {},
   "source": [
    "# run it"
   ]
  },
  {
   "cell_type": "code",
   "execution_count": 11,
   "metadata": {
    "collapsed": false
   },
   "outputs": [],
   "source": [
    "from admm.market_eq import make_prox, make_sharing_prox\n",
    "from admm.admm import admm, plot_resid\n",
    "\n",
    "m = 10 #agents\n",
    "n = 10 #goods\n",
    "\n",
    "A = np.random.rand(m,n)\n",
    "B = np.random.rand(m,n)\n",
    "\n",
    "proxes = [make_prox(A[i,:], B[i,:], i) for i in range(m)]\n",
    "\n",
    "total = {'x': np.sum(B,0)}\n",
    "foo = make_sharing_prox(total)\n",
    "\n",
    "proxes += [foo]"
   ]
  },
  {
   "cell_type": "code",
   "execution_count": 22,
   "metadata": {
    "collapsed": false
   },
   "outputs": [
    {
     "name": "stdout",
     "output_type": "stream",
     "text": [
      "Combined backtracking failed 0 0 89 1 sigma 0.0425279\n",
      "Combined backtracking failed 55 0 35 0 sigma 0.177636\n",
      "Combined backtracking failed 53 0 37 0 sigma 0.891472\n"
     ]
    }
   ],
   "source": [
    "xbar, r,s = admm(proxes, 1, 500)"
   ]
  },
  {
   "cell_type": "code",
   "execution_count": 23,
   "metadata": {
    "collapsed": false
   },
   "outputs": [
    {
     "data": {
      "image/png": "[encoded data removed]",
      "text/plain": [
       "<matplotlib.figure.Figure at 0x10e62cc50>"
      ]
     },
     "metadata": {},
     "output_type": "display_data"
    }
   ],
   "source": [
    "plot_resid(r,s)"
   ]
  },
  {
   "cell_type": "code",
   "execution_count": 14,
   "metadata": {
    "collapsed": false
   },
   "outputs": [
    {
     "name": "stdout",
     "output_type": "stream",
     "text": [
      "\n",
      "ECOS 2.0.4 - (C) embotech GmbH, Zurich Switzerland, 2012-15. Web: www.embotech.com/ECOS\n",
      "\n",
      "It     pcost       dcost      gap   pres   dres    k/t    mu     step   sigma     IR    |   BT\n",
      " 0  +0.000e+00  -1.983e+02  +6e+02  1e+00  2e+00  1e+00  1e+00    ---    ---    0  0  - |  -  - \n",
      " 1  +0.000e+00  -1.004e+02  +3e+02  4e-01  9e-01  3e-01  5e-01  0.7418  3e-01   0  0  0 |  0  0\n",
      " 2  +0.000e+00  -5.210e+01  +1e+02  2e-01  5e-01  2e-01  3e-01  0.5893  1e-01   0  0  0 |  2  2\n",
      " 3  +0.000e+00  -4.388e+01  +1e+02  2e-01  4e-01  2e-01  2e-01  0.9791  7e-01   0  0  0 |  9  0\n",
      " 4  +0.000e+00  -1.615e+01  +3e+01  6e-02  1e-01  9e-02  6e-02  0.6717  3e-02   0  0  0 |  1  1\n",
      " 5  +0.000e+00  -5.966e+00  +1e+01  2e-02  6e-02  4e-02  2e-02  0.6759  4e-02   0  0  0 |  0  1\n",
      " 6  +0.000e+00  -2.128e+00  +3e+00  7e-03  2e-02  2e-02  6e-03  0.9791  3e-01   0  0  0 |  3  0\n",
      " 7  +0.000e+00  -1.172e+00  +2e+00  4e-03  1e-02  9e-03  3e-03  0.6266  2e-01   0  0  0 |  3  2\n",
      " 8  +0.000e+00  -8.764e-01  +1e+00  3e-03  8e-03  7e-03  2e-03  0.9791  6e-01   0  0  0 |  8  0\n",
      " 9  +0.000e+00  -3.997e-01  +4e-01  1e-03  4e-03  3e-03  8e-04  0.6266  9e-02   0  0  0 |  2  2\n",
      "10  +0.000e+00  -1.548e-01  +2e-01  5e-04  1e-03  1e-03  3e-04  0.9791  4e-01   1  0  0 |  5  0\n",
      "11  +0.000e+00  -4.524e-02  +5e-02  2e-04  4e-04  4e-04  8e-05  0.7833  9e-02   1  0  0 |  2  1\n",
      "12  +0.000e+00  -2.027e-02  +2e-02  7e-05  2e-04  2e-04  4e-05  0.7833  3e-01   1  0  0 |  4  1\n",
      "13  +0.000e+00  -5.299e-03  +5e-03  2e-05  5e-05  4e-05  1e-05  0.7437  6e-03   1  0  0 |  0  1\n",
      "14  +0.000e+00  -1.227e-03  +1e-03  4e-06  1e-05  1e-05  2e-06  0.7833  2e-02   1  0  0 |  1  1\n",
      "15  +0.000e+00  -3.205e-04  +3e-04  1e-06  3e-06  3e-06  6e-07  0.7833  5e-02   2  1  0 |  2  1\n",
      "16  +0.000e+00  -8.399e-05  +8e-05  3e-07  8e-07  7e-07  1e-07  0.7833  5e-02   2  0  0 |  2  1\n",
      "17  +0.000e+00  -3.427e-05  +3e-05  1e-07  3e-07  3e-07  6e-08  0.6266  5e-02   2  1  0 |  2  2\n",
      "18  +0.000e+00  -7.553e-06  +7e-06  3e-08  7e-08  6e-08  1e-08  0.7833  1e-02   2  1  1 |  1  1\n",
      "19  +0.000e+00  -3.090e-06  +3e-06  1e-08  3e-08  3e-08  5e-09  0.6266  5e-02   2  1  0 |  2  2\n",
      "20  +0.000e+00  -6.902e-07  +7e-07  2e-09  6e-09  6e-09  1e-09  0.7833  9e-03   3  0  1 |  1  1\n",
      "21  +0.000e+00  -2.796e-07  +3e-07  1e-09  3e-09  2e-09  5e-10  0.6266  5e-02   2  0  0 |  2  2\n",
      "22  +0.000e+00  -6.256e-08  +6e-08  2e-10  6e-10  5e-10  1e-10  0.7833  9e-03   2  0  1 |  1  1\n",
      "23  +0.000e+00  -2.530e-08  +2e-08  9e-11  2e-10  2e-10  4e-11  0.6266  5e-02   3  0  0 |  2  2\n",
      "24  +0.000e+00  -2.361e-08  +2e-08  6e-10  2e-10  2e-10  4e-11  0.0673  9e-03   0  0  0 |  1 12\n",
      "25  +0.000e+00  -5.285e-09  +5e-09  1e-10  5e-11  4e-11  9e-12  0.7833  9e-03   2  0  1 |  1  1\n",
      "\n",
      "OPTIMAL (within feastol=1.4e-10, reltol=nan, abstol=5.1e-09).\n",
      "Runtime: 0.008124 seconds.\n",
      "\n"
     ]
    }
   ],
   "source": [
    "x, phi = solve_linear_eq(A,B)"
   ]
  },
  {
   "cell_type": "code",
   "execution_count": 15,
   "metadata": {
    "collapsed": false
   },
   "outputs": [
    {
     "data": {
      "text/plain": [
       "array([[  1.48790536e-10,   2.71926935e+00,   2.71125406e-10,\n",
       "          6.19829636e-11,   7.74880388e-11,   1.72925372e-10,\n",
       "          9.40841283e-11,   1.23170780e-10,   1.65043880e-10,\n",
       "          1.74909620e+00],\n",
       "       [  3.80630296e+00,   5.11251759e-10,   1.55040266e+00,\n",
       "          7.29343283e-11,   8.62794738e-11,   8.97052163e-11,\n",
       "          2.38229652e-09,   1.34666954e-10,   2.61337496e-10,\n",
       "          2.72631226e-10],\n",
       "       [  8.55741111e-11,   1.27620610e-10,   1.02332428e-09,\n",
       "          7.27894323e-11,   2.01404995e-10,   8.95496546e-10,\n",
       "          2.82308511e-09,   2.56374933e-10,   1.39204771e-10,\n",
       "          3.59597967e+00],\n",
       "       [  1.58841968e-08,   2.40315207e-10,   6.14547650e-10,\n",
       "          2.70319774e-10,   4.84816040e-10,   3.36543703e+00,\n",
       "          1.14877702e-10,   1.22878739e-10,   7.64591045e-11,\n",
       "          1.93691875e-08],\n",
       "       [  2.04171882e-10,   9.79051703e-11,   1.44001133e-09,\n",
       "          1.71605659e-10,   1.31542913e-10,   8.50612183e-10,\n",
       "          9.14910763e-01,   3.75468518e-10,   4.06885627e+00,\n",
       "          1.80718804e-10],\n",
       "       [  1.58756596e-10,   4.31638199e-10,   3.89392728e-10,\n",
       "          2.83007945e-10,   1.09982099e-09,   1.99026285e-10,\n",
       "          1.19125934e-10,   4.46989317e+00,   6.02369784e-11,\n",
       "          3.51091142e-10],\n",
       "       [  1.21585696e-10,   7.55375198e-11,   8.43048226e-10,\n",
       "          3.94085313e-10,   5.04600129e+00,   1.96713551e-10,\n",
       "          1.71328055e-10,   4.16931374e-10,   8.61786573e-11,\n",
       "          1.87831588e-10],\n",
       "       [  9.07865246e-11,   5.67158316e-10,   1.65437770e-10,\n",
       "          1.29224692e-10,   3.59153095e-10,   2.75264113e+00,\n",
       "          2.14703623e+00,   1.45510325e+00,   9.23501462e-11,\n",
       "          1.11614603e-10],\n",
       "       [  1.05648622e-10,   2.63889371e-01,   1.05470214e-10,\n",
       "          3.07157804e+00,   3.40326974e-01,   2.28116637e-10,\n",
       "          1.47591566e+00,   3.85238520e-10,   2.69692613e-10,\n",
       "          2.72503997e-10],\n",
       "       [  1.07419484e-09,   3.03623839e-10,   3.24305295e+00,\n",
       "          1.53174093e-10,   5.11944703e-10,   9.47669477e-11,\n",
       "          8.90352157e-10,   4.21690582e-10,   6.21356742e-10,\n",
       "          6.90885925e-01]])"
      ]
     },
     "execution_count": 15,
     "metadata": {},
     "output_type": "execute_result"
    }
   ],
   "source": [
    "x"
   ]
  },
  {
   "cell_type": "code",
   "execution_count": 24,
   "metadata": {
    "collapsed": false
   },
   "outputs": [
    {
     "data": {
      "text/plain": [
       "<matplotlib.axes._subplots.AxesSubplot at 0x10e95eb00>"
      ]
     },
     "execution_count": 24,
     "metadata": {},
     "output_type": "execute_result"
    },
    {
     "data": {
      "image/png": "[encoded data removed]",
      "text/plain": [
       "<matplotlib.figure.Figure at 0x10ea0e438>"
      ]
     },
     "metadata": {},
     "output_type": "display_data"
    }
   ],
   "source": [
    "sns.heatmap(x)"
   ]
  },
  {
   "cell_type": "code",
   "execution_count": 31,
   "metadata": {
    "collapsed": true
   },
   "outputs": [],
   "source": [
    "dist_x = [(*k,v) for k,v in xbar.items() if isinstance(k,tuple)]\n",
    "dist_x = sorted(dist_x)\n",
    "dist_x = [x[2] for x in dist_x]\n",
    "dist_x = np.array(dist_x)"
   ]
  },
  {
   "cell_type": "code",
   "execution_count": 36,
   "metadata": {
    "collapsed": false
   },
   "outputs": [
    {
     "data": {
      "text/plain": [
       "<matplotlib.axes._subplots.AxesSubplot at 0x10e9669e8>"
      ]
     },
     "execution_count": 36,
     "metadata": {},
     "output_type": "execute_result"
    },
    {
     "data": {
      "image/png": "[encoded data removed]",
      "text/plain": [
       "<matplotlib.figure.Figure at 0x10ef6d1d0>"
      ]
     },
     "metadata": {},
     "output_type": "display_data"
    }
   ],
   "source": [
    "sns.heatmap(dist_x)"
   ]
  },
  {
   "cell_type": "code",
   "execution_count": null,
   "metadata": {
    "collapsed": true
   },
   "outputs": [],
   "source": []
  }
 ],
 "metadata": {
  "kernelspec": {
   "display_name": "Python 3",
   "language": "python",
   "name": "python3"
  },
  "language_info": {
   "codemirror_mode": {
    "name": "ipython",
    "version": 3
   },
   "file_extension": ".py",
   "mimetype": "text/x-python",
   "name": "python",
   "nbconvert_exporter": "python",
   "pygments_lexer": "ipython3",
   "version": "3.5.1"
  }
 },
 "nbformat": 4,
 "nbformat_minor": 0
}

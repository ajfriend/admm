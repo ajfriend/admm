{
 "cells": [
  {
   "cell_type": "code",
   "execution_count": 1,
   "metadata": {
    "collapsed": true
   },
   "outputs": [],
   "source": [
    "%matplotlib inline\n",
    "import numpy as np\n",
    "\n",
    "import seaborn as sns\n",
    "\n",
    "from admm.market_eq import solve_linear_eq, clean_x, alloc_violation, displeasure"
   ]
  },
  {
   "cell_type": "code",
   "execution_count": 2,
   "metadata": {
    "collapsed": true
   },
   "outputs": [],
   "source": [
    "m = 3 #agents\n",
    "n = 3 #goods\n",
    "\n",
    "np.random.seed(0)\n",
    "A = np.random.rand(m,n)\n",
    "B = np.random.rand(m,n)"
   ]
  },
  {
   "cell_type": "code",
   "execution_count": 3,
   "metadata": {
    "collapsed": false
   },
   "outputs": [
    {
     "name": "stdout",
     "output_type": "stream",
     "text": [
      "\n",
      "ECOS 2.0.4 - (C) embotech GmbH, Zurich Switzerland, 2012-15. Web: www.embotech.com/ECOS\n",
      "\n",
      "It     pcost       dcost      gap   pres   dres    k/t    mu     step   sigma     IR    |   BT\n",
      " 0  +0.000e+00  -1.774e+01  +6e+01  1e+00  7e-01  1e+00  1e+00    ---    ---    0  0  - |  -  - \n",
      " 1  +0.000e+00  -7.743e+00  +2e+01  3e-01  3e-01  5e-01  4e-01  0.6266  8e-02   0  0  0 |  2  2\n",
      " 2  +0.000e+00  -1.967e+00  +6e+00  7e-02  8e-02  1e-01  1e-01  0.7572  2e-02   0  0  0 |  1  1\n",
      " 3  +0.000e+00  -8.631e-01  +3e+00  3e-02  3e-02  6e-02  4e-02  0.5926  6e-02   0  0  0 |  1  2\n",
      " 4  +0.000e+00  -1.285e-01  +4e-01  4e-03  5e-03  1e-02  6e-03  0.8589  8e-03   0  0  0 |  0  0\n",
      " 5  +0.000e+00  -7.828e-02  +2e-01  3e-03  3e-03  6e-03  3e-03  0.4808  1e-01   0  0  0 |  2  3\n",
      " 6  +0.000e+00  -2.410e-02  +6e-02  8e-04  1e-03  2e-03  1e-03  0.7706  1e-01   0  0  0 |  2  1\n",
      " 7  +0.000e+00  -5.994e-03  +1e-02  2e-04  2e-04  5e-04  2e-04  0.7785  3e-02   0  0  0 |  1  1\n",
      " 8  +0.000e+00  -2.580e-03  +6e-03  9e-05  1e-04  2e-04  1e-04  0.6266  7e-02   1  0  0 |  2  2\n",
      " 9  +0.000e+00  -5.830e-04  +1e-03  2e-05  2e-05  5e-05  2e-05  0.7833  2e-02   1  0  0 |  1  1\n",
      "10  +0.000e+00  -2.410e-04  +6e-04  9e-06  1e-05  2e-05  9e-06  0.6266  5e-02   1  0  0 |  2  2\n",
      "11  +0.000e+00  -5.365e-05  +1e-04  2e-06  2e-06  4e-06  2e-06  0.7833  1e-02   2  1  0 |  1  1\n",
      "12  +0.000e+00  -2.218e-05  +5e-05  8e-07  9e-07  2e-06  8e-07  0.6266  5e-02   2  0  0 |  2  2\n",
      "13  +0.000e+00  -4.960e-06  +1e-05  2e-07  2e-07  4e-07  2e-07  0.7833  9e-03   1  1  0 |  1  1\n",
      "14  +0.000e+00  -2.045e-06  +5e-06  7e-08  8e-08  2e-07  8e-08  0.6266  5e-02   2  1  1 |  2  2\n",
      "15  +0.000e+00  -4.569e-07  +1e-06  2e-08  2e-08  3e-08  2e-08  0.7833  9e-03   2  0  0 |  1  1\n",
      "16  +0.000e+00  -1.863e-07  +4e-07  7e-09  8e-09  1e-08  7e-09  0.6266  5e-02   2  0  1 |  2  2\n",
      "17  +0.000e+00  -4.167e-08  +9e-08  2e-09  2e-09  3e-09  2e-09  0.7833  9e-03   2  0  1 |  1  1\n",
      "18  +0.000e+00  -1.689e-08  +4e-08  6e-10  7e-10  1e-09  6e-10  0.6266  5e-02   2  0  1 |  2  2\n",
      "19  +0.000e+00  -3.782e-09  +8e-09  1e-10  2e-10  3e-10  1e-10  0.7833  9e-03   3  0  0 |  1  1\n",
      "\n",
      "OPTIMAL (within feastol=1.5e-10, reltol=nan, abstol=8.4e-09).\n",
      "Runtime: 0.001082 seconds.\n",
      "\n"
     ]
    }
   ],
   "source": [
    "x, phi = solve_linear_eq(A,B)"
   ]
  },
  {
   "cell_type": "code",
   "execution_count": 4,
   "metadata": {
    "collapsed": false,
    "scrolled": true
   },
   "outputs": [
    {
     "data": {
      "text/plain": [
       "(0, 0.0)"
      ]
     },
     "execution_count": 4,
     "metadata": {},
     "output_type": "execute_result"
    }
   ],
   "source": [
    "x = clean_x(x,B)\n",
    "alloc_violation(x,B)"
   ]
  },
  {
   "cell_type": "code",
   "execution_count": 5,
   "metadata": {
    "collapsed": false
   },
   "outputs": [
    {
     "data": {
      "text/plain": [
       "2.0318887043733847e-09"
      ]
     },
     "execution_count": 5,
     "metadata": {},
     "output_type": "execute_result"
    }
   ],
   "source": [
    "sum(displeasure(A,B,x,phi))"
   ]
  },
  {
   "cell_type": "code",
   "execution_count": 6,
   "metadata": {
    "collapsed": false
   },
   "outputs": [
    {
     "data": {
      "text/plain": [
       "<matplotlib.axes._subplots.AxesSubplot at 0x1112b0860>"
      ]
     },
     "execution_count": 6,
     "metadata": {},
     "output_type": "execute_result"
    },
    {
     "data": {
      "image/png": "[encoded data removed]",
      "text/plain": [
       "<matplotlib.figure.Figure at 0x10e019748>"
      ]
     },
     "metadata": {},
     "output_type": "display_data"
    }
   ],
   "source": [
    "sns.heatmap(x)"
   ]
  },
  {
   "cell_type": "markdown",
   "metadata": {},
   "source": [
    "# plan\n",
    "- make a paried down admm algorithm\n",
    "- sharing and consensus, but only vectors for each\n",
    "- cut a lot of the boilerplate code\n",
    "- get an iteration working\n",
    "- see the convergence difference with consensus only (extra prox for sharing)\n",
    "\n",
    "# next\n",
    "- make rho adjustment\n",
    "- timing\n",
    "- parallel?\n",
    "- collecting info\n",
    "- also how to track displeasure along with residuals\n",
    "- need to clean up the possible displeasure, too\n",
    "- functional and OO ADMM interface (both built from functional parts)\n",
    "\n",
    "\n",
    "# at each step\n",
    "- time:\n",
    "    - form prox input\n",
    "    - prox time\n",
    "    - form xbar\n",
    "    - update u\n",
    "    - compute residuals\n",
    "    \n",
    "- return residuals\n",
    "- global function info on the xs, xbar\n",
    "- whatever info each prox wants to return\n",
    "    "
   ]
  },
  {
   "cell_type": "markdown",
   "metadata": {},
   "source": [
    "- x is a dict of keys\n",
    "- can be empty (interpreted as zero)\n",
    "    - thus, each proxer must know the sizes of its variables\n",
    "- x = prox(x,rho)\n",
    "- maybe the proxer returns optional info?\n",
    "- some proxers are fusion centers to simulate sharing\n",
    "- for sharing, use keys like: ('agent1', 'apples'), ('agent2', 'apples')\n",
    "- this simplifies everything, one prox is the sharing prox that takes care of this work"
   ]
  },
  {
   "cell_type": "markdown",
   "metadata": {},
   "source": [
    "# run it"
   ]
  },
  {
   "cell_type": "code",
   "execution_count": 7,
   "metadata": {
    "collapsed": false
   },
   "outputs": [],
   "source": [
    "from admm.market_eq import make_prox, make_sharing_prox\n",
    "from admm.admm import admm, plot_resid\n",
    "\n",
    "m = 10 #agents\n",
    "n = 10 #goods\n",
    "\n",
    "np.random.seed(0)\n",
    "A = np.random.rand(m,n)\n",
    "B = np.random.rand(m,n)\n",
    "\n",
    "proxes = [make_prox(A[i,:], B[i,:], i) for i in range(m)]\n",
    "\n",
    "total = {'x': np.sum(B,0)}\n",
    "foo = make_sharing_prox(total)\n",
    "\n",
    "proxes += [foo]"
   ]
  },
  {
   "cell_type": "code",
   "execution_count": 8,
   "metadata": {
    "collapsed": false
   },
   "outputs": [],
   "source": [
    "xbar, infos = admm(proxes, 1, 10)"
   ]
  },
  {
   "cell_type": "code",
   "execution_count": 9,
   "metadata": {
    "collapsed": false
   },
   "outputs": [
    {
     "data": {
      "text/plain": [
       "[{'prox_infos': [None,\n",
       "   None,\n",
       "   None,\n",
       "   None,\n",
       "   None,\n",
       "   None,\n",
       "   None,\n",
       "   None,\n",
       "   None,\n",
       "   None,\n",
       "   None],\n",
       "  'r': 2.6072927896555793,\n",
       "  'rho': 1,\n",
       "  's': 5.4538065218759533,\n",
       "  'times': {'proxes': [0.03582501411437988,\n",
       "    0.033917903900146484,\n",
       "    0.021285057067871094,\n",
       "    0.020751953125,\n",
       "    0.022469043731689453,\n",
       "    0.023130178451538086,\n",
       "    0.015503168106079102,\n",
       "    0.015691041946411133,\n",
       "    0.015239953994750977,\n",
       "    0.015273094177246094,\n",
       "    2.6941299438476562e-05],\n",
       "   'resid': 0.00030803680419921875,\n",
       "   'rho_scaling': 3.0994415283203125e-06,\n",
       "   'total_proxes': 0.21920013427734375,\n",
       "   'total_step': 0.21975302696228027,\n",
       "   'us': 6.699562072753906e-05,\n",
       "   'x_in': 1.7881393432617188e-05,\n",
       "   'xbar': 9.799003601074219e-05}},\n",
       " {'prox_infos': [None,\n",
       "   None,\n",
       "   None,\n",
       "   None,\n",
       "   None,\n",
       "   None,\n",
       "   None,\n",
       "   None,\n",
       "   None,\n",
       "   None,\n",
       "   None],\n",
       "  'r': 1.8043475359362842,\n",
       "  'rho': 1,\n",
       "  's': 2.0253050510378761,\n",
       "  'times': {'proxes': [0.015590906143188477,\n",
       "    0.01674485206604004,\n",
       "    0.015533924102783203,\n",
       "    0.015619993209838867,\n",
       "    0.015170097351074219,\n",
       "    0.015192031860351562,\n",
       "    0.015247106552124023,\n",
       "    0.01694512367248535,\n",
       "    0.021320819854736328,\n",
       "    0.015295982360839844,\n",
       "    6.699562072753906e-05],\n",
       "   'resid': 0.00041794776916503906,\n",
       "   'rho_scaling': 3.814697265625e-06,\n",
       "   'total_proxes': 0.1627821922302246,\n",
       "   'total_step': 0.16346216201782227,\n",
       "   'us': 7.009506225585938e-05,\n",
       "   'x_in': 3.2901763916015625e-05,\n",
       "   'xbar': 0.00010895729064941406}},\n",
       " {'prox_infos': [None,\n",
       "   None,\n",
       "   None,\n",
       "   None,\n",
       "   None,\n",
       "   None,\n",
       "   None,\n",
       "   None,\n",
       "   None,\n",
       "   None,\n",
       "   None],\n",
       "  'r': 1.295962163982848,\n",
       "  'rho': 1,\n",
       "  's': 1.2499839030335758,\n",
       "  'times': {'proxes': [0.015470027923583984,\n",
       "    0.015339136123657227,\n",
       "    0.015588045120239258,\n",
       "    0.015197038650512695,\n",
       "    0.015219926834106445,\n",
       "    0.015134811401367188,\n",
       "    0.01516103744506836,\n",
       "    0.01819896697998047,\n",
       "    0.024113893508911133,\n",
       "    0.01763916015625,\n",
       "    8.106231689453125e-05],\n",
       "   'resid': 0.0004239082336425781,\n",
       "   'rho_scaling': 4.0531158447265625e-06,\n",
       "   'total_proxes': 0.16721820831298828,\n",
       "   'total_step': 0.16792607307434082,\n",
       "   'us': 7.510185241699219e-05,\n",
       "   'x_in': 4.291534423828125e-05,\n",
       "   'xbar': 0.00011086463928222656}},\n",
       " {'prox_infos': [None,\n",
       "   None,\n",
       "   None,\n",
       "   None,\n",
       "   None,\n",
       "   None,\n",
       "   None,\n",
       "   None,\n",
       "   None,\n",
       "   None,\n",
       "   None],\n",
       "  'r': 1.1174753207876162,\n",
       "  'rho': 1,\n",
       "  's': 0.90095711150929858,\n",
       "  'times': {'proxes': [0.020412921905517578,\n",
       "    0.02202296257019043,\n",
       "    0.022739887237548828,\n",
       "    0.024838924407958984,\n",
       "    0.023599863052368164,\n",
       "    0.02858901023864746,\n",
       "    0.026799917221069336,\n",
       "    0.027703046798706055,\n",
       "    0.02773594856262207,\n",
       "    0.03561997413635254,\n",
       "    0.00015807151794433594],\n",
       "   'resid': 0.0006840229034423828,\n",
       "   'rho_scaling': 5.0067901611328125e-06,\n",
       "   'total_proxes': 0.2603158950805664,\n",
       "   'total_step': 0.26149916648864746,\n",
       "   'us': 0.0001380443572998047,\n",
       "   'x_in': 4.506111145019531e-05,\n",
       "   'xbar': 0.00022292137145996094}},\n",
       " {'prox_infos': [None,\n",
       "   None,\n",
       "   None,\n",
       "   None,\n",
       "   None,\n",
       "   None,\n",
       "   None,\n",
       "   None,\n",
       "   None,\n",
       "   None,\n",
       "   None],\n",
       "  'r': 0.92348172781865756,\n",
       "  'rho': 1,\n",
       "  's': 0.81162815757435469,\n",
       "  'times': {'proxes': [0.019903182983398438,\n",
       "    0.020409107208251953,\n",
       "    0.018161773681640625,\n",
       "    0.01796412467956543,\n",
       "    0.020354032516479492,\n",
       "    0.017786026000976562,\n",
       "    0.017695188522338867,\n",
       "    0.0178070068359375,\n",
       "    0.01803302764892578,\n",
       "    0.017832040786743164,\n",
       "    7.581710815429688e-05],\n",
       "   'resid': 0.00040602684020996094,\n",
       "   'rho_scaling': 4.0531158447265625e-06,\n",
       "   'total_proxes': 0.18608617782592773,\n",
       "   'total_step': 0.1867530345916748,\n",
       "   'us': 6.604194641113281e-05,\n",
       "   'x_in': 5.1975250244140625e-05,\n",
       "   'xbar': 9.512901306152344e-05}},\n",
       " {'prox_infos': [None,\n",
       "   None,\n",
       "   None,\n",
       "   None,\n",
       "   None,\n",
       "   None,\n",
       "   None,\n",
       "   None,\n",
       "   None,\n",
       "   None,\n",
       "   None],\n",
       "  'r': 0.72803686716014482,\n",
       "  'rho': 1,\n",
       "  's': 0.84083919203180357,\n",
       "  'times': {'proxes': [0.022920846939086914,\n",
       "    0.02017498016357422,\n",
       "    0.026727914810180664,\n",
       "    0.025281906127929688,\n",
       "    0.017077922821044922,\n",
       "    0.016705989837646484,\n",
       "    0.015125036239624023,\n",
       "    0.015624046325683594,\n",
       "    0.01594710350036621,\n",
       "    0.0671241283416748,\n",
       "    6.604194641113281e-05],\n",
       "   'resid': 0.0004010200500488281,\n",
       "   'rho_scaling': 2.86102294921875e-06,\n",
       "   'total_proxes': 0.24283695220947266,\n",
       "   'total_step': 0.24350714683532715,\n",
       "   'us': 7.295608520507812e-05,\n",
       "   'x_in': 4.100799560546875e-05,\n",
       "   'xbar': 0.00010704994201660156}},\n",
       " {'prox_infos': [None,\n",
       "   None,\n",
       "   None,\n",
       "   None,\n",
       "   None,\n",
       "   None,\n",
       "   None,\n",
       "   None,\n",
       "   None,\n",
       "   None,\n",
       "   None],\n",
       "  'r': 0.63753532357567066,\n",
       "  'rho': 1,\n",
       "  's': 0.77616207367483658,\n",
       "  'times': {'proxes': [0.015444040298461914,\n",
       "    0.015211105346679688,\n",
       "    0.015212774276733398,\n",
       "    0.01524806022644043,\n",
       "    0.015079975128173828,\n",
       "    0.01595783233642578,\n",
       "    0.015241861343383789,\n",
       "    0.015503883361816406,\n",
       "    0.015065908432006836,\n",
       "    0.014950990676879883,\n",
       "    6.699562072753906e-05],\n",
       "   'resid': 0.0003998279571533203,\n",
       "   'rho_scaling': 4.0531158447265625e-06,\n",
       "   'total_proxes': 0.15303993225097656,\n",
       "   'total_step': 0.15370893478393555,\n",
       "   'us': 7.200241088867188e-05,\n",
       "   'x_in': 4.220008850097656e-05,\n",
       "   'xbar': 0.00010585784912109375}},\n",
       " {'prox_infos': [None,\n",
       "   None,\n",
       "   None,\n",
       "   None,\n",
       "   None,\n",
       "   None,\n",
       "   None,\n",
       "   None,\n",
       "   None,\n",
       "   None,\n",
       "   None],\n",
       "  'r': 0.57739190589864475,\n",
       "  'rho': 1,\n",
       "  's': 0.71270841742602264,\n",
       "  'times': {'proxes': [0.015597105026245117,\n",
       "    0.019441843032836914,\n",
       "    0.016762971878051758,\n",
       "    0.015154123306274414,\n",
       "    0.015134096145629883,\n",
       "    0.015474796295166016,\n",
       "    0.015043973922729492,\n",
       "    0.015552043914794922,\n",
       "    0.016799211502075195,\n",
       "    0.01536703109741211,\n",
       "    6.580352783203125e-05],\n",
       "   'resid': 0.00041103363037109375,\n",
       "   'rho_scaling': 4.0531158447265625e-06,\n",
       "   'total_proxes': 0.16044902801513672,\n",
       "   'total_step': 0.1611318588256836,\n",
       "   'us': 7.295608520507812e-05,\n",
       "   'x_in': 4.315376281738281e-05,\n",
       "   'xbar': 0.0001068115234375}},\n",
       " {'prox_infos': [None,\n",
       "   None,\n",
       "   None,\n",
       "   None,\n",
       "   None,\n",
       "   None,\n",
       "   None,\n",
       "   None,\n",
       "   None,\n",
       "   None,\n",
       "   None],\n",
       "  'r': 0.51450573246407039,\n",
       "  'rho': 1,\n",
       "  's': 0.67841052391787093,\n",
       "  'times': {'proxes': [0.020831823348999023,\n",
       "    0.015170812606811523,\n",
       "    0.015300989151000977,\n",
       "    0.015327215194702148,\n",
       "    0.016349077224731445,\n",
       "    0.01553487777709961,\n",
       "    0.015187978744506836,\n",
       "    0.015170097351074219,\n",
       "    0.015164852142333984,\n",
       "    0.015291929244995117,\n",
       "    6.604194641113281e-05],\n",
       "   'resid': 0.00041413307189941406,\n",
       "   'rho_scaling': 3.0994415283203125e-06,\n",
       "   'total_proxes': 0.15945196151733398,\n",
       "   'total_step': 0.1601409912109375,\n",
       "   'us': 7.295608520507812e-05,\n",
       "   'x_in': 4.291534423828125e-05,\n",
       "   'xbar': 0.00011110305786132812}},\n",
       " {'prox_infos': [None,\n",
       "   None,\n",
       "   None,\n",
       "   None,\n",
       "   None,\n",
       "   None,\n",
       "   None,\n",
       "   None,\n",
       "   None,\n",
       "   None,\n",
       "   None],\n",
       "  'r': 0.47254042299604399,\n",
       "  'rho': 1,\n",
       "  's': 0.62516497775412516,\n",
       "  'times': {'proxes': [0.015074014663696289,\n",
       "    0.016839027404785156,\n",
       "    0.018598079681396484,\n",
       "    0.019073009490966797,\n",
       "    0.01819896697998047,\n",
       "    0.01766204833984375,\n",
       "    0.017342090606689453,\n",
       "    0.015308141708374023,\n",
       "    0.015421152114868164,\n",
       "    0.015202999114990234,\n",
       "    6.699562072753906e-05],\n",
       "   'resid': 0.0004069805145263672,\n",
       "   'rho_scaling': 4.0531158447265625e-06,\n",
       "   'total_proxes': 0.16884207725524902,\n",
       "   'total_step': 0.16952204704284668,\n",
       "   'us': 7.390975952148438e-05,\n",
       "   'x_in': 4.100799560546875e-05,\n",
       "   'xbar': 0.00010704994201660156}}]"
      ]
     },
     "execution_count": 9,
     "metadata": {},
     "output_type": "execute_result"
    }
   ],
   "source": [
    "infos"
   ]
  },
  {
   "cell_type": "code",
   "execution_count": 10,
   "metadata": {
    "collapsed": false
   },
   "outputs": [
    {
     "ename": "NameError",
     "evalue": "name 'r' is not defined",
     "output_type": "error",
     "traceback": [
      "\u001b[0;31m---------------------------------------------------------------------------\u001b[0m",
      "\u001b[0;31mNameError\u001b[0m                                 Traceback (most recent call last)",
      "\u001b[0;32m<ipython-input-10-b5982df4f4da>\u001b[0m in \u001b[0;36m<module>\u001b[0;34m()\u001b[0m\n\u001b[0;32m----> 1\u001b[0;31m \u001b[0mplot_resid\u001b[0m\u001b[0;34m(\u001b[0m\u001b[0mr\u001b[0m\u001b[0;34m,\u001b[0m\u001b[0ms\u001b[0m\u001b[0;34m)\u001b[0m\u001b[0;34m\u001b[0m\u001b[0m\n\u001b[0m",
      "\u001b[0;31mNameError\u001b[0m: name 'r' is not defined"
     ]
    }
   ],
   "source": [
    "plot_resid(r,s)"
   ]
  },
  {
   "cell_type": "code",
   "execution_count": 14,
   "metadata": {
    "collapsed": false
   },
   "outputs": [
    {
     "name": "stdout",
     "output_type": "stream",
     "text": [
      "\n",
      "ECOS 2.0.4 - (C) embotech GmbH, Zurich Switzerland, 2012-15. Web: www.embotech.com/ECOS\n",
      "\n",
      "It     pcost       dcost      gap   pres   dres    k/t    mu     step   sigma     IR    |   BT\n",
      " 0  +0.000e+00  -1.983e+02  +6e+02  1e+00  2e+00  1e+00  1e+00    ---    ---    0  0  - |  -  - \n",
      " 1  +0.000e+00  -1.004e+02  +3e+02  4e-01  9e-01  3e-01  5e-01  0.7418  3e-01   0  0  0 |  0  0\n",
      " 2  +0.000e+00  -5.210e+01  +1e+02  2e-01  5e-01  2e-01  3e-01  0.5893  1e-01   0  0  0 |  2  2\n",
      " 3  +0.000e+00  -4.388e+01  +1e+02  2e-01  4e-01  2e-01  2e-01  0.9791  7e-01   0  0  0 |  9  0\n",
      " 4  +0.000e+00  -1.615e+01  +3e+01  6e-02  1e-01  9e-02  6e-02  0.6717  3e-02   0  0  0 |  1  1\n",
      " 5  +0.000e+00  -5.966e+00  +1e+01  2e-02  6e-02  4e-02  2e-02  0.6759  4e-02   0  0  0 |  0  1\n",
      " 6  +0.000e+00  -2.128e+00  +3e+00  7e-03  2e-02  2e-02  6e-03  0.9791  3e-01   0  0  0 |  3  0\n",
      " 7  +0.000e+00  -1.172e+00  +2e+00  4e-03  1e-02  9e-03  3e-03  0.6266  2e-01   0  0  0 |  3  2\n",
      " 8  +0.000e+00  -8.764e-01  +1e+00  3e-03  8e-03  7e-03  2e-03  0.9791  6e-01   0  0  0 |  8  0\n",
      " 9  +0.000e+00  -3.997e-01  +4e-01  1e-03  4e-03  3e-03  8e-04  0.6266  9e-02   0  0  0 |  2  2\n",
      "10  +0.000e+00  -1.548e-01  +2e-01  5e-04  1e-03  1e-03  3e-04  0.9791  4e-01   1  0  0 |  5  0\n",
      "11  +0.000e+00  -4.524e-02  +5e-02  2e-04  4e-04  4e-04  8e-05  0.7833  9e-02   1  0  0 |  2  1\n",
      "12  +0.000e+00  -2.027e-02  +2e-02  7e-05  2e-04  2e-04  4e-05  0.7833  3e-01   1  0  0 |  4  1\n",
      "13  +0.000e+00  -5.299e-03  +5e-03  2e-05  5e-05  4e-05  1e-05  0.7437  6e-03   1  0  0 |  0  1\n",
      "14  +0.000e+00  -1.227e-03  +1e-03  4e-06  1e-05  1e-05  2e-06  0.7833  2e-02   1  0  0 |  1  1\n",
      "15  +0.000e+00  -3.205e-04  +3e-04  1e-06  3e-06  3e-06  6e-07  0.7833  5e-02   2  1  0 |  2  1\n",
      "16  +0.000e+00  -8.399e-05  +8e-05  3e-07  8e-07  7e-07  1e-07  0.7833  5e-02   2  0  0 |  2  1\n",
      "17  +0.000e+00  -3.427e-05  +3e-05  1e-07  3e-07  3e-07  6e-08  0.6266  5e-02   2  1  0 |  2  2\n",
      "18  +0.000e+00  -7.553e-06  +7e-06  3e-08  7e-08  6e-08  1e-08  0.7833  1e-02   2  1  1 |  1  1\n",
      "19  +0.000e+00  -3.090e-06  +3e-06  1e-08  3e-08  3e-08  5e-09  0.6266  5e-02   2  1  0 |  2  2\n",
      "20  +0.000e+00  -6.902e-07  +7e-07  2e-09  6e-09  6e-09  1e-09  0.7833  9e-03   3  0  1 |  1  1\n",
      "21  +0.000e+00  -2.796e-07  +3e-07  1e-09  3e-09  2e-09  5e-10  0.6266  5e-02   2  0  0 |  2  2\n",
      "22  +0.000e+00  -6.256e-08  +6e-08  2e-10  6e-10  5e-10  1e-10  0.7833  9e-03   2  0  1 |  1  1\n",
      "23  +0.000e+00  -2.530e-08  +2e-08  9e-11  2e-10  2e-10  4e-11  0.6266  5e-02   3  0  0 |  2  2\n",
      "24  +0.000e+00  -2.361e-08  +2e-08  6e-10  2e-10  2e-10  4e-11  0.0673  9e-03   0  0  0 |  1 12\n",
      "25  +0.000e+00  -5.285e-09  +5e-09  1e-10  5e-11  4e-11  9e-12  0.7833  9e-03   2  0  1 |  1  1\n",
      "\n",
      "OPTIMAL (within feastol=1.4e-10, reltol=nan, abstol=5.1e-09).\n",
      "Runtime: 0.008124 seconds.\n",
      "\n"
     ]
    }
   ],
   "source": [
    "x, phi = solve_linear_eq(A,B)"
   ]
  },
  {
   "cell_type": "code",
   "execution_count": 15,
   "metadata": {
    "collapsed": false
   },
   "outputs": [
    {
     "data": {
      "text/plain": [
       "array([[  1.48790536e-10,   2.71926935e+00,   2.71125406e-10,\n",
       "          6.19829636e-11,   7.74880388e-11,   1.72925372e-10,\n",
       "          9.40841283e-11,   1.23170780e-10,   1.65043880e-10,\n",
       "          1.74909620e+00],\n",
       "       [  3.80630296e+00,   5.11251759e-10,   1.55040266e+00,\n",
       "          7.29343283e-11,   8.62794738e-11,   8.97052163e-11,\n",
       "          2.38229652e-09,   1.34666954e-10,   2.61337496e-10,\n",
       "          2.72631226e-10],\n",
       "       [  8.55741111e-11,   1.27620610e-10,   1.02332428e-09,\n",
       "          7.27894323e-11,   2.01404995e-10,   8.95496546e-10,\n",
       "          2.82308511e-09,   2.56374933e-10,   1.39204771e-10,\n",
       "          3.59597967e+00],\n",
       "       [  1.58841968e-08,   2.40315207e-10,   6.14547650e-10,\n",
       "          2.70319774e-10,   4.84816040e-10,   3.36543703e+00,\n",
       "          1.14877702e-10,   1.22878739e-10,   7.64591045e-11,\n",
       "          1.93691875e-08],\n",
       "       [  2.04171882e-10,   9.79051703e-11,   1.44001133e-09,\n",
       "          1.71605659e-10,   1.31542913e-10,   8.50612183e-10,\n",
       "          9.14910763e-01,   3.75468518e-10,   4.06885627e+00,\n",
       "          1.80718804e-10],\n",
       "       [  1.58756596e-10,   4.31638199e-10,   3.89392728e-10,\n",
       "          2.83007945e-10,   1.09982099e-09,   1.99026285e-10,\n",
       "          1.19125934e-10,   4.46989317e+00,   6.02369784e-11,\n",
       "          3.51091142e-10],\n",
       "       [  1.21585696e-10,   7.55375198e-11,   8.43048226e-10,\n",
       "          3.94085313e-10,   5.04600129e+00,   1.96713551e-10,\n",
       "          1.71328055e-10,   4.16931374e-10,   8.61786573e-11,\n",
       "          1.87831588e-10],\n",
       "       [  9.07865246e-11,   5.67158316e-10,   1.65437770e-10,\n",
       "          1.29224692e-10,   3.59153095e-10,   2.75264113e+00,\n",
       "          2.14703623e+00,   1.45510325e+00,   9.23501462e-11,\n",
       "          1.11614603e-10],\n",
       "       [  1.05648622e-10,   2.63889371e-01,   1.05470214e-10,\n",
       "          3.07157804e+00,   3.40326974e-01,   2.28116637e-10,\n",
       "          1.47591566e+00,   3.85238520e-10,   2.69692613e-10,\n",
       "          2.72503997e-10],\n",
       "       [  1.07419484e-09,   3.03623839e-10,   3.24305295e+00,\n",
       "          1.53174093e-10,   5.11944703e-10,   9.47669477e-11,\n",
       "          8.90352157e-10,   4.21690582e-10,   6.21356742e-10,\n",
       "          6.90885925e-01]])"
      ]
     },
     "execution_count": 15,
     "metadata": {},
     "output_type": "execute_result"
    }
   ],
   "source": [
    "x"
   ]
  },
  {
   "cell_type": "code",
   "execution_count": 24,
   "metadata": {
    "collapsed": false
   },
   "outputs": [
    {
     "data": {
      "text/plain": [
       "<matplotlib.axes._subplots.AxesSubplot at 0x10e95eb00>"
      ]
     },
     "execution_count": 24,
     "metadata": {},
     "output_type": "execute_result"
    },
    {
     "data": {
      "image/png": "[encoded data removed]",
      "text/plain": [
       "<matplotlib.figure.Figure at 0x10ea0e438>"
      ]
     },
     "metadata": {},
     "output_type": "display_data"
    }
   ],
   "source": [
    "sns.heatmap(x)"
   ]
  },
  {
   "cell_type": "code",
   "execution_count": 31,
   "metadata": {
    "collapsed": true
   },
   "outputs": [],
   "source": [
    "dist_x = [(*k,v) for k,v in xbar.items() if isinstance(k,tuple)]\n",
    "dist_x = sorted(dist_x)\n",
    "dist_x = [x[2] for x in dist_x]\n",
    "dist_x = np.array(dist_x)"
   ]
  },
  {
   "cell_type": "code",
   "execution_count": 36,
   "metadata": {
    "collapsed": false
   },
   "outputs": [
    {
     "data": {
      "text/plain": [
       "<matplotlib.axes._subplots.AxesSubplot at 0x10e9669e8>"
      ]
     },
     "execution_count": 36,
     "metadata": {},
     "output_type": "execute_result"
    },
    {
     "data": {
      "image/png": "[encoded data removed]",
      "text/plain": [
       "<matplotlib.figure.Figure at 0x10ef6d1d0>"
      ]
     },
     "metadata": {},
     "output_type": "display_data"
    }
   ],
   "source": [
    "sns.heatmap(dist_x)"
   ]
  },
  {
   "cell_type": "markdown",
   "metadata": {},
   "source": [
    "# step info dict\n",
    "- times: 'xin', 'total_prox', 'individual_prox' = [list of prox times], ...\n",
    "- 'prox_info': [list of prox info dicts]\n",
    "- r, s residuals\n",
    "- rho (at the start of the iteration)\n",
    "- global info hook. function of xbar\n",
    "\n",
    "\n",
    "# todo:\n",
    "- add individual prox timing code and report in dict\n",
    "- and collect any extra info from the prox functions\n",
    "\n",
    "\n"
   ]
  },
  {
   "cell_type": "code",
   "execution_count": null,
   "metadata": {
    "collapsed": true
   },
   "outputs": [],
   "source": []
  }
 ],
 "metadata": {
  "kernelspec": {
   "display_name": "Python 3",
   "language": "python",
   "name": "python3"
  },
  "language_info": {
   "codemirror_mode": {
    "name": "ipython",
    "version": 3
   },
   "file_extension": ".py",
   "mimetype": "text/x-python",
   "name": "python",
   "nbconvert_exporter": "python",
   "pygments_lexer": "ipython3",
   "version": "3.5.1"
  }
 },
 "nbformat": 4,
 "nbformat_minor": 0
}
